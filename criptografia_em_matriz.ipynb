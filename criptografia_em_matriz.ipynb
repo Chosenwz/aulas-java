{
  "nbformat": 4,
  "nbformat_minor": 0,
  "metadata": {
    "colab": {
      "provenance": [],
      "authorship_tag": "ABX9TyM/j8L6rfbQjURAnI/ABe7h",
      "include_colab_link": true
    },
    "kernelspec": {
      "name": "python3",
      "display_name": "Python 3"
    },
    "language_info": {
      "name": "python"
    }
  },
  "cells": [
    {
      "cell_type": "markdown",
      "metadata": {
        "id": "view-in-github",
        "colab_type": "text"
      },
      "source": [
        "<a href=\"https://colab.research.google.com/github/Chosenwz/aulas-java/blob/main/criptografia_em_matriz.ipynb\" target=\"_parent\"><img src=\"https://colab.research.google.com/assets/colab-badge.svg\" alt=\"Open In Colab\"/></a>"
      ]
    },
    {
      "cell_type": "code",
      "execution_count": 41,
      "metadata": {
        "colab": {
          "base_uri": "https://localhost:8080/"
        },
        "id": "eNMpILmuFEh_",
        "outputId": "9784a38d-920a-4456-c429-3f80802b3984"
      },
      "outputs": [
        {
          "output_type": "stream",
          "name": "stdout",
          "text": [
            "Mensagem criptografada: NMKGIUXWHBGUOEIJPJ\n"
          ]
        }
      ],
      "source": [
        "alfabeto = list(\"ABCDEFGHIJKLMNOPQRSTUVWXYZ\")\n",
        "\n",
        "def letra_para_numero(letra):\n",
        "  return alfabeto.index(letra)\n",
        "\n",
        "def numero_para_letra(numero):\n",
        "  return alfabeto[numero % 26]\n",
        "\n",
        "mensagem = 'JESUS CRISTO É O SENHOR!'\n",
        "valores = []\n",
        "\n",
        "for letra in mensagem:\n",
        "  letra = letra.upper()\n",
        "  if letra in alfabeto:\n",
        "    valores.append(letra_para_numero(letra))\n",
        "\n",
        "\n",
        "if len(valores) % 2 != 0:\n",
        "  valores.append(0)\n",
        "\n",
        "chave = [[3, 3], [2, 5]]\n",
        "\n",
        "criptografado = []\n",
        "\n",
        "for i in range(0, len(valores), 2):\n",
        "  x = valores[i]\n",
        "  y = valores[i + 1]\n",
        "\n",
        "  novo_x = (chave[0][0] * x + chave[0][1] * y) % 26\n",
        "  novo_y = (chave[1][0] * x + chave[1][1] * y) % 26\n",
        "\n",
        "  criptografado.append(novo_x)\n",
        "  criptografado.append(novo_y)\n",
        "\n",
        "mensagem_cripto = \"\"\n",
        "for numero in criptografado:\n",
        "  letra = numero_para_letra(numero)\n",
        "  mensagem_cripto += letra\n",
        "\n",
        "print(\"Mensagem criptografada:\", mensagem_cripto)\n"
      ]
    }
  ]
}